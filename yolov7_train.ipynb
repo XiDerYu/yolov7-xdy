{
  "cells": [
    {
      "cell_type": "markdown",
      "metadata": {
        "id": "view-in-github",
        "colab_type": "text"
      },
      "source": [
        "<a href=\"https://colab.research.google.com/github/XiDerYu/yolov7-xdy/blob/main/yolov7_train.ipynb\" target=\"_parent\"><img src=\"https://colab.research.google.com/assets/colab-badge.svg\" alt=\"Open In Colab\"/></a>"
      ]
    },
    {
      "cell_type": "code",
      "execution_count": 6,
      "metadata": {
        "colab": {
          "base_uri": "https://localhost:8080/"
        },
        "id": "wh2Upw1jRjen",
        "outputId": "ccfc17aa-46b7-481f-a4ee-37bfb169596d"
      },
      "outputs": [
        {
          "output_type": "stream",
          "name": "stdout",
          "text": [
            "True\n",
            "Tesla T4\n"
          ]
        }
      ],
      "source": [
        "#測試gpu\n",
        "import torch\n",
        "print(torch.cuda.is_available())\n",
        "print(torch.cuda.get_device_name())"
      ]
    },
    {
      "cell_type": "code",
      "source": [
        "from google.colab import drive\n",
        "drive.mount('/content/drive')"
      ],
      "metadata": {
        "id": "qonNVd5pAk6P"
      },
      "execution_count": null,
      "outputs": []
    },
    {
      "cell_type": "code",
      "execution_count": 2,
      "metadata": {
        "colab": {
          "base_uri": "https://localhost:8080/"
        },
        "id": "RWBAI88fSEzU",
        "outputId": "69038b2e-d436-442a-9afa-48b8265fe102"
      },
      "outputs": [
        {
          "output_type": "stream",
          "name": "stdout",
          "text": [
            "Cloning into 'yolov7'...\n",
            "remote: Enumerating objects: 1127, done.\u001b[K\n",
            "remote: Total 1127 (delta 0), reused 0 (delta 0), pack-reused 1127\u001b[K\n",
            "Receiving objects: 100% (1127/1127), 69.94 MiB | 16.51 MiB/s, done.\n",
            "Resolving deltas: 100% (521/521), done.\n"
          ]
        }
      ],
      "source": [
        "!git clone https://github.com/WongKinYiu/yolov7.git"
      ]
    },
    {
      "cell_type": "code",
      "source": [
        "%cd /content/\n",
        "!cp -r /content/drive/MyDrive/yolov7/caryon/train yolov7/data/train\n",
        "!cp -r /content/drive/MyDrive/yolov7/caryon/val yolov7/data/val"
      ],
      "metadata": {
        "id": "EH-BkwAPCwKz",
        "colab": {
          "base_uri": "https://localhost:8080/"
        },
        "outputId": "97395432-46ca-444f-b8f0-219ffc20a04e"
      },
      "execution_count": 3,
      "outputs": [
        {
          "output_type": "stream",
          "name": "stdout",
          "text": [
            "/content\n"
          ]
        }
      ]
    },
    {
      "cell_type": "code",
      "source": [
        "!cp /content/yolov7/data/coco.yaml /content/yolov7/data/custom_data.yaml\n",
        "!cp /content/yolov7/cfg/training/yolov7.yaml /content/yolov7/cfg/training/custom.yaml"
      ],
      "metadata": {
        "id": "Uw6s-sOMEGti"
      },
      "execution_count": 4,
      "outputs": []
    },
    {
      "cell_type": "markdown",
      "source": [
        "\n",
        "custom_data.yaml\n",
        "```\n",
        "train: data/train  # 118287 images\n",
        "val: data/val  # 5000 images\n",
        "\n",
        "# number of classes\n",
        "nc: x\n",
        "\n",
        "# class names\n",
        "names: [ 'xx', 'xx', 'xx.' ]\n",
        "```\n",
        "\n"
      ],
      "metadata": {
        "id": "scrd4yNQC4-E"
      }
    },
    {
      "cell_type": "code",
      "execution_count": null,
      "metadata": {
        "id": "DYHf76XPS0o2"
      },
      "outputs": [],
      "source": [
        "%cd yolov7/\n",
        "!pip install -r requirements.txt\n",
        "!wget https://github.com/WongKinYiu/yolov7/releases/download/v0.1/yolov7.pt"
      ]
    },
    {
      "cell_type": "code",
      "source": [
        "%cd /content/yolov7/\n",
        "!python train.py --workers 1 --batch-size 8 --epochs 100 --img 640 640 --data data/custom_data.yaml --hyp data/hyp.scratch.custom.yaml --cfg cfg/training/custom.yaml --weights yolov7.pt"
      ],
      "metadata": {
        "id": "zlJpwaHwGrGP"
      },
      "execution_count": null,
      "outputs": []
    },
    {
      "cell_type": "code",
      "source": [
        "!cp -r runs/train/exp/weights/best.pt ./caryon.pt \n",
        "!cp -r /content/drive/MyDrive/yolov7/caryon/video.mp4 ./caryon.mp4"
      ],
      "metadata": {
        "id": "Gn8qJHQcKHsm"
      },
      "execution_count": null,
      "outputs": []
    },
    {
      "cell_type": "code",
      "source": [
        "!cp /content/yolov7/runs/detect/exp/caryon.mp4 /content/drive/MyDrive/yolov7/caryon/exp.mp4"
      ],
      "metadata": {
        "id": "1ETQmM7rNLUd"
      },
      "execution_count": null,
      "outputs": []
    }
  ],
  "metadata": {
    "accelerator": "GPU",
    "colab": {
      "provenance": [],
      "mount_file_id": "1Tk2-Z875g59g-Ktfgf3T7MnLl41L3gIk",
      "authorship_tag": "ABX9TyPUDC7L6n92HSRWrGJ/ic4F",
      "include_colab_link": true
    },
    "gpuClass": "standard",
    "kernelspec": {
      "display_name": "Python 3",
      "name": "python3"
    },
    "language_info": {
      "name": "python"
    }
  },
  "nbformat": 4,
  "nbformat_minor": 0
}